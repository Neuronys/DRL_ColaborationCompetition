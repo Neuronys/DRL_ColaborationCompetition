{
 "cells": [
  {
   "cell_type": "markdown",
   "metadata": {},
   "source": [
    "# Project 3 : Collaboration and Competition\n",
    "\n",
    "---\n",
    "\n",
    "In this notebook, we will use the **Tennis** Unity ML-Agents environment."
   ]
  },
  {
   "cell_type": "markdown",
   "metadata": {},
   "source": [
    "## 1. Model & Algorithm used\n",
    "\n",
    "### 1.1. Algorithm\n",
    "I've decided to use the DDPG algorithm and I've reused the multi-agent version of the code implemented for project 2 (https://github.com/Neuronys/DRL-ContinuousControl.git). the code for the model ('model.py') and the agent ('multi_agent.py') is highly inspired from:\n",
    "https://github.com/udacity/deep-reinforcement-learning/blob/55474449a112fa72323f484c4b7a498c8dc84be1/ddpg-bipedal/model.py and \n",
    "https://github.com/udacity/deep-reinforcement-learning/blob/55474449a112fa72323f484c4b7a498c8dc84be1/ddpg-bipedal/ddpg_agent.py\n",
    ", but adding the multi agent capability.\n",
    "\n",
    "My notebook is solving this project with 2 agents using their own DDPG algorithm, but sharing a common replay buffer to sample individually from it.\n",
    "\n",
    "### 1.2. Model\n",
    "Both Actor & Critic are implemented using deep neural networks with 2 hidden layers. I have experimented various architecture:\n",
    "- fc1 = 256 & fc2 = 128\n",
    "- fc1 = 256 & fc2 = 256\n",
    "- fc1 = 512 & fc2 = 256\n",
    "- fc1 = 512 & fc2 = 384\n",
    "\n",
    "And it appears that the last one (fc1 = 512 & fc2 = 384) is converging better and faster.\n",
    "As suggested in the Slack channel and tested already in the previous project, I have tried to add a Batch Normalization layer after the first layer, but it didn't improve the convergence. It was also suggested to use leaky_relu instead of rely for the Critic neural network, but I didn't notice improvement.\n",
    "\n",
    "### 1.3. Hyper parameters\n",
    "Convergence mainly came when I've started to tweak the hyper parameters:\n",
    "- I've doubled the size of the batch\n",
    "- I've drastically increased TAU \n",
    "- I've restored the learning rate of the Actor neural network to its orginal value (as I've changed it for project 2).\n",
    "\n",
    "The final configuration is:\n",
    "- BUFFER_SIZE = int(1e6)\n",
    "- BATCH_SIZE = 128\n",
    "- GAMMA = 0.99\n",
    "- TAU = 0.33\n",
    "- LR_ACTOR = 0.0001\n",
    "- LR_CRITIC = 0.0001\n",
    "- WEIGHT_DECAY = 0\n",
    "\n",
    "The Tennis environment is solved is less than 800 episodes, which seems a good result compared to others results on Slack. "
   ]
  },
  {
   "cell_type": "markdown",
   "metadata": {},
   "source": [
    "## 2. Start the Environment\n",
    "\n",
    "Run the next code cell to install a few packages. This line will take a few minutes to run !"
   ]
  },
  {
   "cell_type": "code",
   "execution_count": 1,
   "metadata": {},
   "outputs": [],
   "source": [
    "# Watch for changes in any of the imported files\n",
    "%load_ext autoreload\n",
    "%autoreload 2\n",
    "\n",
    "import torch\n",
    "import numpy as np\n",
    "from collections import deque\n",
    "from unityagents import UnityEnvironment\n",
    "\n",
    "import matplotlib.pyplot as plt\n",
    "%matplotlib inline\n",
    "\n",
    "from multi_agent import Agent"
   ]
  },
  {
   "cell_type": "markdown",
   "metadata": {},
   "source": [
    "The environment is already saved in the Workspace and can be accessed at the file path provided below.\n",
    "\n",
    "- **Mac**: `\"path/to/Tennis.app\"`\n",
    "- **Windows** (x86): `\"path/to/Tennis_Windows_x86/Tennis.exe\"`\n",
    "- **Windows** (x86_64): `\"path/to/Tennis_Windows_x86_64/Tennis.exe\"`\n",
    "- **Linux** (x86): `\"path/to/Tennis_Linux/Tennis.x86\"`\n",
    "- **Linux** (x86_64): `\"path/to/Tennis_Linux/Tennis.x86_64\"`\n",
    "- **Linux** (x86, headless): `\"path/to/Tennis_Linux_NoVis/Tennis.x86\"`\n",
    "- **Linux** (x86_64, headless): `\"path/to/Tennis_Linux_NoVis/Tennis.x86_64\"`\n",
    "\n",
    "For instance, if you are using a Mac, then you downloaded `Tennis.app`.  If this file is in the same folder as the notebook, then the line below should appear as follows:\n",
    "```\n",
    "env = UnityEnvironment(file_name=\"Tennis.app\")\n",
    "```"
   ]
  },
  {
   "cell_type": "code",
   "execution_count": 2,
   "metadata": {},
   "outputs": [
    {
     "name": "stderr",
     "output_type": "stream",
     "text": [
      "INFO:unityagents:\n",
      "'Academy' started successfully!\n",
      "Unity Academy name: Academy\n",
      "        Number of Brains: 1\n",
      "        Number of External Brains : 1\n",
      "        Lesson number : 0\n",
      "        Reset Parameters :\n",
      "\t\t\n",
      "Unity brain name: TennisBrain\n",
      "        Number of Visual Observations (per agent): 0\n",
      "        Vector Observation space type: continuous\n",
      "        Vector Observation space size (per agent): 8\n",
      "        Number of stacked Vector Observation: 3\n",
      "        Vector Action space type: continuous\n",
      "        Vector Action space size (per agent): 2\n",
      "        Vector Action descriptions: , \n"
     ]
    }
   ],
   "source": [
    "env = UnityEnvironment(file_name='Tennis.app')"
   ]
  },
  {
   "cell_type": "markdown",
   "metadata": {},
   "source": [
    "Environments contain **_brains_** which are responsible for deciding the actions of their associated agents. Here we check for the first brain available, and set it as the default brain we will be controlling from Python."
   ]
  },
  {
   "cell_type": "code",
   "execution_count": 3,
   "metadata": {},
   "outputs": [],
   "source": [
    "# get the default brain\n",
    "brain_name = env.brain_names[0]\n",
    "brain = env.brains[brain_name]"
   ]
  },
  {
   "cell_type": "markdown",
   "metadata": {},
   "source": [
    "## 3. Examine the State and Action Spaces\n",
    "\n",
    "In this environment, two agents control rackets to bounce a ball over a net.\n",
    "- **Positive Rewards:** +0.1 if an agent hits the ball over the net.\n",
    "- **Negative Rewards:** -0.01 if an agent lets a ball hit the ground or hits the ball out of bounds.\n",
    "- **Observation Space:** 8 variables corresponding to the position and velocity of the ball and racket. Each agent receives its own, local observation.\n",
    "- **Action Space:** Two continuous actions are available: 1) movement toward (or away from) the net, and 2) jumping. \n",
    "\n",
    "So, the **Goal** of each agent is to keep the ball in play.\n",
    "\n",
    "The task is episodic, and in order to solve the environment, our agents must get an average score of +0.5 (over 100 consecutive episodes, after taking the maximum over both agents).\n",
    "\n",
    "Run the code cell below to print some information about the environment."
   ]
  },
  {
   "cell_type": "code",
   "execution_count": 4,
   "metadata": {},
   "outputs": [
    {
     "name": "stdout",
     "output_type": "stream",
     "text": [
      "Number of agents: 2\n",
      "Size of each action: 2\n",
      "There are 2 agents. Each observes a state with length: 24\n",
      "The state for the first agent looks like: [ 0.          0.          0.          0.          0.          0.\n",
      "  0.          0.          0.          0.          0.          0.\n",
      "  0.          0.          0.          0.         -6.65278625 -1.5\n",
      " -0.          0.          6.83172083  6.         -0.          0.        ]\n"
     ]
    }
   ],
   "source": [
    "# reset the environment\n",
    "env_info = env.reset(train_mode=True)[brain_name]\n",
    "\n",
    "# number of agents \n",
    "num_agents = len(env_info.agents)\n",
    "print('Number of agents:', num_agents)\n",
    "\n",
    "# size of each action\n",
    "action_size = brain.vector_action_space_size\n",
    "print('Size of each action:', action_size)\n",
    "\n",
    "# examine the state space\n",
    "states = env_info.vector_observations\n",
    "state_size = states.shape[1]\n",
    "print('There are {} agents. Each observes a state with length: {}'.format(states.shape[0], state_size))\n",
    "print('The state for the first agent looks like:', states[0])"
   ]
  },
  {
   "cell_type": "markdown",
   "metadata": {},
   "source": [
    "## 4. Train the 2 agents\n",
    "\n",
    "Now it's your turn to train your own agent to solve the environment!  When training the environment, set `train_mode=True`, so that the line for resetting the environment looks like the following:\n",
    "```python\n",
    "env_info = env.reset(train_mode=True)[brain_name]\n",
    "```"
   ]
  },
  {
   "cell_type": "code",
   "execution_count": 5,
   "metadata": {},
   "outputs": [],
   "source": [
    "def plot_scores(scores):\n",
    "    fig = plt.figure()\n",
    "    ax = fig.add_subplot(111)\n",
    "    plt.plot(np.arange(len(scores)), scores)\n",
    "    plt.ylabel('Score')\n",
    "    plt.xlabel('Episode #')\n",
    "    plt.show()"
   ]
  },
  {
   "cell_type": "code",
   "execution_count": 6,
   "metadata": {},
   "outputs": [],
   "source": [
    "# multi-agent DDPG algo\n",
    "def ddpg_ma(n_episodes=2000):\n",
    "    scores = []\n",
    "    scores_deque = deque(maxlen=100)\n",
    "    \n",
    "    for e in range(1, n_episodes+1):\n",
    "        env_info = env.reset(train_mode=True)[brain_name]\n",
    "        agent.reset()\n",
    "        state = env_info.vector_observations            # get the current state\n",
    "\n",
    "        # Initialize the score for each agent\n",
    "        score = np.zeros(num_agents)\n",
    "        \n",
    "        # Keep track of the current timestep\n",
    "        t = 0\n",
    "        while True:\n",
    "            action = agent.act(state)          # select an action\n",
    "       \n",
    "            env_info = env.step(action)[brain_name]        # send the action to the environment\n",
    "            next_state = env_info.vector_observations   # get the next state\n",
    "            reward = env_info.rewards                   # get the reward\n",
    "            done = env_info.local_done                  # see if episode has finished\n",
    "            agent.step(state, action, reward, next_state, done) # take step with agent (including learning)\n",
    "            score += reward                                # update the score\n",
    "            state = next_state                             # roll over the state to next time step\n",
    "            \n",
    "            # Print the current mean score across all agents\n",
    "            print(f'\\rEpisode #{e}\\tTimestep #{t}'\n",
    "                  f'\\tScore = {np.mean(score):.5f}', end=\"\")\n",
    "            t += 1\n",
    "\n",
    "            if np.any(done):\n",
    "                break \n",
    "\n",
    "        # add up the rewards that each agent received\n",
    "        scores_sum = []\n",
    "        for i in range(num_agents):\n",
    "            scores_sum.append(np.sum(score[i]))\n",
    "        \n",
    "        # For this episode, take the max score over the two agent\n",
    "        max_score = np.max(scores_sum)\n",
    "\n",
    "        # Save the most recent score\n",
    "        scores.append(max_score)\n",
    "        scores_deque.append(max_score)\n",
    "        \n",
    "        # Record the mean score over the last 100 scores\n",
    "        mean_score = np.mean(scores_deque)\n",
    "\n",
    "        # Every 20 episodes, print the mean score over the last 100 episodes\n",
    "        if e % 20 == 0:\n",
    "            print(f'\\rEpisode #{e}'\n",
    "                  f'\\tAverage score (over the last 100 episodes) = {mean_score:.5f}')\n",
    "            \n",
    "        # Goal: Reach 0.5 (or more) over 100 consecutive episodes\n",
    "        if mean_score >= 0.5:\n",
    "            print(f'\\nTennis environment solved in {e:d} episodes!'\n",
    "                  f'\\tAverage score (over the last 100 episodes) = {mean_score:.5f}')\n",
    "            \n",
    "            torch.save(agent.actor_local.state_dict(), 'actor.pth')\n",
    "            torch.save(agent.critic_local.state_dict(), 'critic.pth')\n",
    "            break\n",
    "            \n",
    "    return scores"
   ]
  },
  {
   "cell_type": "code",
   "execution_count": 7,
   "metadata": {},
   "outputs": [
    {
     "name": "stdout",
     "output_type": "stream",
     "text": [
      "Episode #20\tAverage score (over the last 100 episodes) = 0.00000\n",
      "Episode #40\tAverage score (over the last 100 episodes) = 0.00000\n",
      "Episode #60\tAverage score (over the last 100 episodes) = 0.00000\n",
      "Episode #80\tAverage score (over the last 100 episodes) = 0.00125\n",
      "Episode #100\tAverage score (over the last 100 episodes) = 0.00100\n",
      "Episode #120\tAverage score (over the last 100 episodes) = 0.00100\n",
      "Episode #140\tAverage score (over the last 100 episodes) = 0.00100\n",
      "Episode #160\tAverage score (over the last 100 episodes) = 0.00200\n",
      "Episode #180\tAverage score (over the last 100 episodes) = 0.00100\n",
      "Episode #200\tAverage score (over the last 100 episodes) = 0.00200\n",
      "Episode #220\tAverage score (over the last 100 episodes) = 0.00200\n",
      "Episode #240\tAverage score (over the last 100 episodes) = 0.00200\n",
      "Episode #260\tAverage score (over the last 100 episodes) = 0.00490\n",
      "Episode #280\tAverage score (over the last 100 episodes) = 0.01150\n",
      "Episode #300\tAverage score (over the last 100 episodes) = 0.01890\n",
      "Episode #320\tAverage score (over the last 100 episodes) = 0.02850\n",
      "Episode #340\tAverage score (over the last 100 episodes) = 0.03830\n",
      "Episode #360\tAverage score (over the last 100 episodes) = 0.04680\n",
      "Episode #380\tAverage score (over the last 100 episodes) = 0.06000\n",
      "Episode #400\tAverage score (over the last 100 episodes) = 0.06860\n",
      "Episode #420\tAverage score (over the last 100 episodes) = 0.08080\n",
      "Episode #440\tAverage score (over the last 100 episodes) = 0.09370\n",
      "Episode #460\tAverage score (over the last 100 episodes) = 0.12100\n",
      "Episode #480\tAverage score (over the last 100 episodes) = 0.16010\n",
      "Episode #500\tAverage score (over the last 100 episodes) = 0.21590\n",
      "Episode #520\tAverage score (over the last 100 episodes) = 0.24390\n",
      "Episode #540\tAverage score (over the last 100 episodes) = 0.28410\n",
      "Episode #560\tAverage score (over the last 100 episodes) = 0.29340\n",
      "Episode #580\tAverage score (over the last 100 episodes) = 0.26950\n",
      "Episode #600\tAverage score (over the last 100 episodes) = 0.28770\n",
      "Episode #620\tAverage score (over the last 100 episodes) = 0.30970\n",
      "Episode #640\tAverage score (over the last 100 episodes) = 0.27670\n",
      "Episode #660\tAverage score (over the last 100 episodes) = 0.29940\n",
      "Episode #680\tAverage score (over the last 100 episodes) = 0.33930\n",
      "Episode #700\tAverage score (over the last 100 episodes) = 0.32510\n",
      "Episode #720\tAverage score (over the last 100 episodes) = 0.37810\n",
      "Episode #740\tAverage score (over the last 100 episodes) = 0.47210\n",
      "Episode #760\tAverage score (over the last 100 episodes) = 0.48120\n",
      "Episode #765\tTimestep #639\tScore = 1.59500\n",
      "Tennis environment solved in 765 episodes!\tAverage score (over the last 100 episodes) = 0.51020\n"
     ]
    }
   ],
   "source": [
    "# Instantiate the agent\n",
    "agent = Agent(state_size=state_size, action_size=action_size, num_agents=num_agents, random_seed=22)\n",
    "# Train the DDPG agent\n",
    "scores = ddpg_ma(n_episodes=1000)\n"
   ]
  },
  {
   "cell_type": "markdown",
   "metadata": {},
   "source": [
    "## 5. Plot the result"
   ]
  },
  {
   "cell_type": "code",
   "execution_count": 8,
   "metadata": {},
   "outputs": [
    {
     "data": {
      "image/png": "[encoded data removed]",
      "text/plain": [
       "<Figure size 432x288 with 1 Axes>"
      ]
     },
     "metadata": {
      "needs_background": "light"
     },
     "output_type": "display_data"
    }
   ],
   "source": [
    "# Plot the result\n",
    "plot_scores(scores)"
   ]
  },
  {
   "cell_type": "code",
   "execution_count": 9,
   "metadata": {},
   "outputs": [],
   "source": [
    "env.close()"
   ]
  },
  {
   "cell_type": "markdown",
   "metadata": {},
   "source": [
    "## 6. Future work (already suggested in project 2)\n",
    "I've focussed on DDPG but there are DDPG improvements to try, such as D3PG and D4PG, A3C and PPO:\n",
    "- In the Slack channel, some students have reported great results using PPO instead of DDPG.\n",
    "- In this paper written by Barth-Maron et al 2018 D4PG has achieved state of the art results on continuous control problems.\n",
    "\n",
    "However there is still room for improvement on the DDPG algorithm:\n",
    "- use priority in the Replay Buffer\n",
    "- adjust the Ornstein-Uhlenbeck noise level"
   ]
  }
 ],
 "metadata": {
  "kernelspec": {
   "display_name": "drlnd",
   "language": "python",
   "name": "drlnd"
  },
  "language_info": {
   "codemirror_mode": {
    "name": "ipython",
    "version": 3
   },
   "file_extension": ".py",
   "mimetype": "text/x-python",
   "name": "python",
   "nbconvert_exporter": "python",
   "pygments_lexer": "ipython3",
   "version": "3.6.7"
  }
 },
 "nbformat": 4,
 "nbformat_minor": 2
}
